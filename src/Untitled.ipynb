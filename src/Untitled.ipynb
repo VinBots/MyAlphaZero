{
 "cells": [
  {
   "cell_type": "code",
   "execution_count": 1,
   "metadata": {},
   "outputs": [
    {
     "name": "stderr",
     "output_type": "stream",
     "text": [
      "training loop:  25% |##########                                | ETA:   0:00:21"
     ]
    },
    {
     "name": "stdout",
     "output_type": "stream",
     "text": [
      "game:  50 , mean loss: 6.11 , Last 10 Results:  [1, 0, 1, 0, 1, -1, 0, 0, 0, 1]\n"
     ]
    },
    {
     "name": "stderr",
     "output_type": "stream",
     "text": [
      "training loop:  50% |#####################                     | ETA:   0:00:14"
     ]
    },
    {
     "name": "stdout",
     "output_type": "stream",
     "text": [
      "game:  100 , mean loss: 5.90 , Last 10 Results:  [1, 1, 0, 1, 0, 1, 1, 0, 0, 1]\n"
     ]
    },
    {
     "name": "stderr",
     "output_type": "stream",
     "text": [
      "training loop:  75% |###############################           | ETA:   0:00:06"
     ]
    },
    {
     "name": "stdout",
     "output_type": "stream",
     "text": [
      "game:  150 , mean loss: 5.02 , Last 10 Results:  [1, 0, 0, 1, 0, 0, 0, 1, 0, 0]\n"
     ]
    },
    {
     "name": "stderr",
     "output_type": "stream",
     "text": [
      "training loop: 100% |##########################################| Time:  0:00:27\n"
     ]
    },
    {
     "name": "stdout",
     "output_type": "stream",
     "text": [
      "game:  200 , mean loss: 5.30 , Last 10 Results:  [1, 0, 1, 0, 0, 1, 0, 1, 0, 1]\n"
     ]
    }
   ],
   "source": [
    "# Python libraries\n",
    "\n",
    "# 3rd party libraries\n",
    "import matplotlib.pyplot as plt\n",
    "import numpy as np\n",
    "\n",
    "# Game-related libraries\n",
    "import games_mod # Games\n",
    "import policy_mod # neural network\n",
    "from play_mod import Play\n",
    "import training_mod\n",
    "from game_utils import DotDict\n",
    "\n",
    "# Game settings\n",
    "game_settings = DotDict({\"board_size\": (3, 3), \"N\": 3})\n",
    "\n",
    "# Self-play training settings\n",
    "game_training_settings = DotDict(\n",
    "    {\n",
    "        \"comp_interval\": 100,\n",
    "        \"episods\": 200,\n",
    "        \"explore_steps\": 50,\n",
    "        \"temperature_sch\": np.array(\n",
    "            [[300, 0.3], [10000, 0.01]]\n",
    "        ),  # [x,y] means \"up to x episods, applies y temperature\"\n",
    "    }\n",
    ")\n",
    "# neural network settings\n",
    "nn_training_settings = DotDict(\n",
    "    {\n",
    "        \"load_policy\": False,\n",
    "        \"ai_ckp\": \"\",\n",
    "        \"lr\": 0.01,\n",
    "        \"weight_decay\": 1.0e-4,\n",
    "    }\n",
    ")\n",
    "\n",
    "# play settings\n",
    "play_settings = DotDict({\"explore_steps\": 20, \"temperature\": 0.01})\n",
    "\n",
    "\n",
    "def main():\n",
    "\n",
    "    game = games_mod.ConnectN(game_settings)\n",
    "    policy = policy_mod.Policy()\n",
    "    alpha_0 = training_mod.AlphaZeroTraining(\n",
    "        game_settings, game_training_settings, nn_training_settings, policy\n",
    "    )\n",
    "\n",
    "\n",
    "if __name__ == \"__main__\":\n",
    "    main()\n",
    "\n"
   ]
  },
  {
   "cell_type": "code",
   "execution_count": null,
   "metadata": {},
   "outputs": [],
   "source": []
  }
 ],
 "metadata": {
  "kernelspec": {
   "display_name": "drlnd",
   "language": "python",
   "name": "drlnd"
  },
  "language_info": {
   "codemirror_mode": {
    "name": "ipython",
    "version": 3
   },
   "file_extension": ".py",
   "mimetype": "text/x-python",
   "name": "python",
   "nbconvert_exporter": "python",
   "pygments_lexer": "ipython3",
   "version": "3.6.12"
  }
 },
 "nbformat": 4,
 "nbformat_minor": 4
}
