{
 "cells": [
  {
   "cell_type": "code",
   "execution_count": 9,
   "metadata": {},
   "outputs": [],
   "source": [
    "import numpy as np\n",
    "import torch\n",
    "import random"
   ]
  },
  {
   "cell_type": "code",
   "execution_count": 10,
   "metadata": {},
   "outputs": [],
   "source": [
    "#record1\n",
    "state1 = np.array([[-1.,  1., -1.],\n",
    "                                           [ 0.,  1.,  0.],\n",
    "                                           [ 0.,  0.,  0.]])\n",
    "v1=1.0\n",
    "p1=torch.tensor([ 0.,  0.,  0.,  0.,  0.,  0.,  0.,  1.,  0.])\n",
    "count_exp1 = 0\n",
    "\n",
    "#record2\n",
    "state2 = np.array([[-1.,  0., -1.],\n",
    "                                           [ 0.,  1.,  0.],\n",
    "                                           [ 0.,  0.,  0.]])\n",
    "v2=-1.0\n",
    "p2=torch.tensor([ 0.5,  0.5,  0.,  0.,  0.,  0.,  0.,  0.,  0.])\n",
    "count_exp2 = 0\n",
    "\n"
   ]
  },
  {
   "cell_type": "code",
   "execution_count": 11,
   "metadata": {},
   "outputs": [],
   "source": [
    "hash_state1 = tuple(map(tuple, state1)) \n",
    "hash_state2 = tuple(map(tuple, state2)) "
   ]
  },
  {
   "cell_type": "code",
   "execution_count": 12,
   "metadata": {},
   "outputs": [],
   "source": [
    "new_dict = {}"
   ]
  },
  {
   "cell_type": "code",
   "execution_count": 13,
   "metadata": {},
   "outputs": [],
   "source": [
    "new_dict[hash_state1] = (v1, p1, count_exp1)\n",
    "new_dict[hash_state2] = (v2, p2, count_exp2)"
   ]
  },
  {
   "cell_type": "code",
   "execution_count": 14,
   "metadata": {},
   "outputs": [
    {
     "data": {
      "text/plain": [
       "{((-1.0, 1.0, -1.0), (0.0, 1.0, 0.0), (0.0, 0.0, 0.0)): (1.0,\n",
       "  tensor([ 0.,  0.,  0.,  0.,  0.,  0.,  0.,  1.,  0.]),\n",
       "  0),\n",
       " ((-1.0, 0.0, -1.0), (0.0, 1.0, 0.0), (0.0, 0.0, 0.0)): (-1.0,\n",
       "  tensor([ 0.5000,  0.5000,  0.0000,  0.0000,  0.0000,  0.0000,  0.0000,\n",
       "           0.0000,  0.0000]),\n",
       "  0)}"
      ]
     },
     "execution_count": 14,
     "metadata": {},
     "output_type": "execute_result"
    }
   ],
   "source": [
    "new_dict"
   ]
  },
  {
   "cell_type": "code",
   "execution_count": null,
   "metadata": {},
   "outputs": [],
   "source": []
  },
  {
   "cell_type": "code",
   "execution_count": null,
   "metadata": {},
   "outputs": [],
   "source": []
  },
  {
   "cell_type": "code",
   "execution_count": 16,
   "metadata": {},
   "outputs": [],
   "source": [
    "a = new_dict.items()"
   ]
  },
  {
   "cell_type": "code",
   "execution_count": 17,
   "metadata": {},
   "outputs": [
    {
     "data": {
      "text/plain": [
       "dict_items([(((-1.0, 1.0, -1.0), (0.0, 1.0, 0.0), (0.0, 0.0, 0.0)), (1.0, tensor([ 0.,  0.,  0.,  0.,  0.,  0.,  0.,  1.,  0.]), 0)), (((-1.0, 0.0, -1.0), (0.0, 1.0, 0.0), (0.0, 0.0, 0.0)), (-1.0, tensor([ 0.5000,  0.5000,  0.0000,  0.0000,  0.0000,  0.0000,  0.0000,\n",
       "         0.0000,  0.0000]), 0))])"
      ]
     },
     "execution_count": 17,
     "metadata": {},
     "output_type": "execute_result"
    }
   ],
   "source": [
    "a"
   ]
  },
  {
   "cell_type": "code",
   "execution_count": 20,
   "metadata": {},
   "outputs": [],
   "source": [
    "b = random.sample (a, 2)"
   ]
  },
  {
   "cell_type": "code",
   "execution_count": 21,
   "metadata": {},
   "outputs": [
    {
     "data": {
      "text/plain": [
       "(((-1.0, 0.0, -1.0), (0.0, 1.0, 0.0), (0.0, 0.0, 0.0)),\n",
       " (-1.0,\n",
       "  tensor([ 0.5000,  0.5000,  0.0000,  0.0000,  0.0000,  0.0000,  0.0000,\n",
       "           0.0000,  0.0000]),\n",
       "  0))"
      ]
     },
     "execution_count": 21,
     "metadata": {},
     "output_type": "execute_result"
    }
   ],
   "source": [
    "b[0]"
   ]
  },
  {
   "cell_type": "code",
   "execution_count": 22,
   "metadata": {},
   "outputs": [
    {
     "data": {
      "text/plain": [
       "((-1.0, 0.0, -1.0), (0.0, 1.0, 0.0), (0.0, 0.0, 0.0))"
      ]
     },
     "execution_count": 22,
     "metadata": {},
     "output_type": "execute_result"
    }
   ],
   "source": [
    "b[0][0]"
   ]
  },
  {
   "cell_type": "code",
   "execution_count": null,
   "metadata": {},
   "outputs": [],
   "source": []
  }
 ],
 "metadata": {
  "kernelspec": {
   "display_name": "drlnd",
   "language": "python",
   "name": "drlnd"
  },
  "language_info": {
   "codemirror_mode": {
    "name": "ipython",
    "version": 3
   },
   "file_extension": ".py",
   "mimetype": "text/x-python",
   "name": "python",
   "nbconvert_exporter": "python",
   "pygments_lexer": "ipython3",
   "version": "3.6.12"
  }
 },
 "nbformat": 4,
 "nbformat_minor": 4
}
