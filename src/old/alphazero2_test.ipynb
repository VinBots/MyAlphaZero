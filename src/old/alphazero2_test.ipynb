{
 "cells": [
  {
   "cell_type": "markdown",
   "metadata": {},
   "source": [
    "# AlphaZero Algorithm - Testing Self-Play"
   ]
  },
  {
   "cell_type": "markdown",
   "metadata": {},
   "source": [
    "# Import libraries / modules"
   ]
  },
  {
   "cell_type": "code",
   "execution_count": null,
   "metadata": {},
   "outputs": [],
   "source": [
    "# Python libraries\n",
    "import time\n",
    "\n",
    "# 3rd party libraries\n",
    "import matplotlib.pyplot as plt\n",
    "import numpy as np\n",
    "\n",
    "# Game-related libraries\n",
    "import games_mod # Games\n",
    "import policy_mod # neural network\n",
    "from play_mod import Play\n",
    "import training_mod\n",
    "from game_utils import DotDict, policy_player_mcts, random_player, match_ai"
   ]
  },
  {
   "cell_type": "markdown",
   "metadata": {},
   "source": [
    "# Game, Training and Play Settings"
   ]
  },
  {
   "cell_type": "code",
   "execution_count": null,
   "metadata": {},
   "outputs": [],
   "source": [
    "# Game settings\n",
    "game_settings = DotDict({\n",
    "    \"board_size\": (3,3),\n",
    "    \"N\": 3\n",
    "})\n",
    "\n",
    "# Self-play training settings\n",
    "game_training_settings = DotDict({\n",
    "    \"comp_interval\":100,\n",
    "    \"episods\": 1000,\n",
    "    \"explore_steps\": 50,\n",
    "    \"temp_threshold\": [300, 0.01] #[x,y] means \"up to x episods, applies y temperature\"\n",
    "})\n",
    "# neural network settings\n",
    "nn_training_settings = DotDict({\n",
    "    \"load_policy\": False,\n",
    "    \"ai_ckp\": \"\",\n",
    "    \"lr\": .01, \n",
    "    \"weight_decay\": 1.e-4,\n",
    "})\n",
    "\n",
    "# play settings\n",
    "play_settings = DotDict({\n",
    "    \"explore_steps\": 50,\n",
    "    \"temperature\": 0.01                         \n",
    "})"
   ]
  },
  {
   "cell_type": "markdown",
   "metadata": {},
   "source": [
    "## Testing of the self_play function"
   ]
  },
  {
   "cell_type": "code",
   "execution_count": null,
   "metadata": {},
   "outputs": [],
   "source": [
    "from self_play import execute_self_play\n",
    "policy = policy_mod.Policy()\n",
    "temp = 1\n",
    "wins = 0\n",
    "draws = 0\n",
    "losses = 0\n",
    "explore_steps = 10\n",
    "for _ in range(100):\n",
    "    new_exp = execute_self_play (game_settings, explore_steps, policy, temp)\n",
    "    res = new_exp[0][1]\n",
    "    if res == 1:\n",
    "        wins += 1\n",
    "    elif res == 0:\n",
    "        draws += 1\n",
    "    elif res == -1:\n",
    "        losses += 1\n",
    "    \n",
    "print (\"Games won / lost by player1 = {} / {}; number of draws = {}\".format\n",
    "       (wins, losses, draws))\n"
   ]
  },
  {
   "cell_type": "code",
   "execution_count": null,
   "metadata": {},
   "outputs": [],
   "source": [
    "from self_play import execute_self_play\n",
    "\n",
    "wins_count = []\n",
    "draws_count= []\n",
    "mcts_explore=[]\n",
    "\n",
    "\n",
    "for explore_steps in range(1, 51, 5):\n",
    "\n",
    "    policy = policy_mod.Policy()\n",
    "    temp = 1\n",
    "    wins = 0\n",
    "    draws = 0\n",
    "    losses = 0\n",
    "    for _ in range(100):\n",
    "        new_exp = execute_self_play (game_settings, explore_steps, policy, temp)\n",
    "        res = new_exp[0][1]\n",
    "        if res == 1:\n",
    "            wins += 1\n",
    "        elif res == 0:\n",
    "            draws += 1\n",
    "        elif res == -1:\n",
    "            losses += 1\n",
    "    \n",
    "    #print (\"Games won / lost by player1 = {} / {}; number of draws = {}\".format\n",
    "    #   (wins, losses, draws))\n",
    "    \n",
    "    wins_count.append(wins)\n",
    "    draws_count.append(draws)\n",
    "    mcts_explore.append(explore_steps)"
   ]
  },
  {
   "cell_type": "code",
   "execution_count": null,
   "metadata": {
    "scrolled": true
   },
   "outputs": [],
   "source": [
    "plt.xlabel(\"MCTS explore_steps\")\n",
    "plt.ylabel(\"player 1 wins / draws\")\n",
    "plt.plot(mcts_explore,wins_count, label = \"wins\")\n",
    "plt.plot(mcts_explore, draws_count, label = \"draws\")\n",
    "plt.legend()\n",
    "plt.show()"
   ]
  }
 ],
 "metadata": {
  "kernelspec": {
   "display_name": "drlnd",
   "language": "python",
   "name": "drlnd"
  },
  "language_info": {
   "codemirror_mode": {
    "name": "ipython",
    "version": 3
   },
   "file_extension": ".py",
   "mimetype": "text/x-python",
   "name": "python",
   "nbconvert_exporter": "python",
   "pygments_lexer": "ipython3",
   "version": "3.6.12"
  }
 },
 "nbformat": 4,
 "nbformat_minor": 2
}
