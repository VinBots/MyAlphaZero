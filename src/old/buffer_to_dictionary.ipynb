{
 "cells": [
  {
   "cell_type": "code",
   "execution_count": 2,
   "metadata": {},
   "outputs": [],
   "source": [
    "import numpy as np\n",
    "import torch\n",
    "import random"
   ]
  },
  {
   "cell_type": "code",
   "execution_count": 3,
   "metadata": {},
   "outputs": [],
   "source": [
    "#record1\n",
    "state1 = np.array([[-1.,  1., -1.],\n",
    "                                           [ 0.,  1.,  0.],\n",
    "                                           [ 0.,  0.,  0.]])\n",
    "v1=1.0\n",
    "p1=torch.tensor([ 0.,  0.,  0.,  0.,  0.,  0.,  0.,  1.,  0.])\n",
    "count_exp1 = 0\n",
    "\n",
    "#record2\n",
    "state2 = np.array([[-1.,  0., -1.],\n",
    "                                           [ 0.,  1.,  0.],\n",
    "                                           [ 0.,  0.,  0.]])\n",
    "v2=-1.0\n",
    "p2=torch.tensor([ 0.5,  0.5,  0.,  0.,  0.,  0.,  0.,  0.,  0.])\n",
    "count_exp2 = 0\n",
    "\n"
   ]
  },
  {
   "cell_type": "code",
   "execution_count": 4,
   "metadata": {},
   "outputs": [],
   "source": [
    "hash_state1 = tuple(map(tuple, state1)) \n",
    "hash_state2 = tuple(map(tuple, state2)) "
   ]
  },
  {
   "cell_type": "code",
   "execution_count": 5,
   "metadata": {},
   "outputs": [],
   "source": [
    "new_dict = {}"
   ]
  },
  {
   "cell_type": "code",
   "execution_count": 6,
   "metadata": {},
   "outputs": [],
   "source": [
    "new_dict[hash_state1] = (v1, p1, count_exp1)\n",
    "new_dict[hash_state2] = (v2, p2, count_exp2)"
   ]
  },
  {
   "cell_type": "code",
   "execution_count": 7,
   "metadata": {},
   "outputs": [
    {
     "data": {
      "text/plain": [
       "{((-1.0, 1.0, -1.0), (0.0, 1.0, 0.0), (0.0, 0.0, 0.0)): (1.0,\n",
       "  tensor([ 0.,  0.,  0.,  0.,  0.,  0.,  0.,  1.,  0.]),\n",
       "  0),\n",
       " ((-1.0, 0.0, -1.0), (0.0, 1.0, 0.0), (0.0, 0.0, 0.0)): (-1.0,\n",
       "  tensor([ 0.5000,  0.5000,  0.0000,  0.0000,  0.0000,  0.0000,  0.0000,\n",
       "           0.0000,  0.0000]),\n",
       "  0)}"
      ]
     },
     "execution_count": 7,
     "metadata": {},
     "output_type": "execute_result"
    }
   ],
   "source": [
    "new_dict"
   ]
  },
  {
   "cell_type": "code",
   "execution_count": null,
   "metadata": {},
   "outputs": [],
   "source": []
  },
  {
   "cell_type": "code",
   "execution_count": null,
   "metadata": {},
   "outputs": [],
   "source": []
  },
  {
   "cell_type": "code",
   "execution_count": 8,
   "metadata": {},
   "outputs": [],
   "source": [
    "a = new_dict.items()"
   ]
  },
  {
   "cell_type": "code",
   "execution_count": 9,
   "metadata": {},
   "outputs": [
    {
     "data": {
      "text/plain": [
       "dict_items([(((-1.0, 1.0, -1.0), (0.0, 1.0, 0.0), (0.0, 0.0, 0.0)), (1.0, tensor([ 0.,  0.,  0.,  0.,  0.,  0.,  0.,  1.,  0.]), 0)), (((-1.0, 0.0, -1.0), (0.0, 1.0, 0.0), (0.0, 0.0, 0.0)), (-1.0, tensor([ 0.5000,  0.5000,  0.0000,  0.0000,  0.0000,  0.0000,  0.0000,\n",
       "         0.0000,  0.0000]), 0))])"
      ]
     },
     "execution_count": 9,
     "metadata": {},
     "output_type": "execute_result"
    }
   ],
   "source": [
    "a"
   ]
  },
  {
   "cell_type": "code",
   "execution_count": 10,
   "metadata": {},
   "outputs": [],
   "source": [
    "b = random.sample (a, 2)"
   ]
  },
  {
   "cell_type": "code",
   "execution_count": 11,
   "metadata": {},
   "outputs": [
    {
     "data": {
      "text/plain": [
       "(((-1.0, 0.0, -1.0), (0.0, 1.0, 0.0), (0.0, 0.0, 0.0)),\n",
       " (-1.0,\n",
       "  tensor([ 0.5000,  0.5000,  0.0000,  0.0000,  0.0000,  0.0000,  0.0000,\n",
       "           0.0000,  0.0000]),\n",
       "  0))"
      ]
     },
     "execution_count": 11,
     "metadata": {},
     "output_type": "execute_result"
    }
   ],
   "source": [
    "b[0]"
   ]
  },
  {
   "cell_type": "code",
   "execution_count": 12,
   "metadata": {},
   "outputs": [
    {
     "data": {
      "text/plain": [
       "((-1.0, 0.0, -1.0), (0.0, 1.0, 0.0), (0.0, 0.0, 0.0))"
      ]
     },
     "execution_count": 12,
     "metadata": {},
     "output_type": "execute_result"
    }
   ],
   "source": [
    "b[0][0]"
   ]
  },
  {
   "cell_type": "code",
   "execution_count": 58,
   "metadata": {},
   "outputs": [],
   "source": [
    "samples = [(((0.0, 0.0, -1.0), (1.0, 0.0, 0.0), (1.0, -1.0, 0.0)), (1.0, torch.tensor([ 1.,  0.,  0.,  0.,  0.,  0.,  0.,  0.,  0.]), 2)), (((1.0, 0.0, 1.0), (-1.0, 0.0, 0.0), (0.0, -1.0, 0.0)), (1.0, torch.tensor([ 0.,  1.,  0.,  0.,  0.,  0.,  0.,  0.,  0.]), 2)), (((0.0, -1.0, -1.0), (0.0, 1.0, 0.0), (1.0, -1.0, 1.0)), (1, torch.tensor([ 1.,  0.,  0.,  0.,  0.,  0.,  0.,  0.,  0.]), 1))]"
   ]
  },
  {
   "cell_type": "code",
   "execution_count": 59,
   "metadata": {},
   "outputs": [
    {
     "data": {
      "text/plain": [
       "[(((0.0, 0.0, -1.0), (1.0, 0.0, 0.0), (1.0, -1.0, 0.0)),\n",
       "  (1.0, tensor([ 1.,  0.,  0.,  0.,  0.,  0.,  0.,  0.,  0.]), 2)),\n",
       " (((1.0, 0.0, 1.0), (-1.0, 0.0, 0.0), (0.0, -1.0, 0.0)),\n",
       "  (1.0, tensor([ 0.,  1.,  0.,  0.,  0.,  0.,  0.,  0.,  0.]), 2)),\n",
       " (((0.0, -1.0, -1.0), (0.0, 1.0, 0.0), (1.0, -1.0, 1.0)),\n",
       "  (1, tensor([ 1.,  0.,  0.,  0.,  0.,  0.,  0.,  0.,  0.]), 1))]"
      ]
     },
     "execution_count": 59,
     "metadata": {},
     "output_type": "execute_result"
    }
   ],
   "source": [
    "samples"
   ]
  },
  {
   "cell_type": "code",
   "execution_count": null,
   "metadata": {},
   "outputs": [],
   "source": []
  },
  {
   "cell_type": "code",
   "execution_count": 94,
   "metadata": {},
   "outputs": [],
   "source": [
    "new_list = [torch.tensor([e[0]], dtype=torch.float,\n",
    "            device=device) for e in samples if e is not None]"
   ]
  },
  {
   "cell_type": "code",
   "execution_count": 95,
   "metadata": {},
   "outputs": [
    {
     "data": {
      "text/plain": [
       "3"
      ]
     },
     "execution_count": 95,
     "metadata": {},
     "output_type": "execute_result"
    }
   ],
   "source": [
    "len(new_list)"
   ]
  },
  {
   "cell_type": "code",
   "execution_count": 96,
   "metadata": {},
   "outputs": [],
   "source": [
    "all_states = torch.stack(new_list)"
   ]
  },
  {
   "cell_type": "code",
   "execution_count": 97,
   "metadata": {},
   "outputs": [
    {
     "data": {
      "text/plain": [
       "tensor([[[[ 0.,  0., -1.],\n",
       "          [ 1.,  0.,  0.],\n",
       "          [ 1., -1.,  0.]]],\n",
       "\n",
       "\n",
       "        [[[ 1.,  0.,  1.],\n",
       "          [-1.,  0.,  0.],\n",
       "          [ 0., -1.,  0.]]],\n",
       "\n",
       "\n",
       "        [[[ 0., -1., -1.],\n",
       "          [ 0.,  1.,  0.],\n",
       "          [ 1., -1.,  1.]]]])"
      ]
     },
     "execution_count": 97,
     "metadata": {},
     "output_type": "execute_result"
    }
   ],
   "source": [
    "all_states"
   ]
  },
  {
   "cell_type": "code",
   "execution_count": 85,
   "metadata": {},
   "outputs": [],
   "source": [
    "device = torch.device(\"cuda:0\" if torch.cuda.is_available() else \"cpu\")\n",
    "all_v = torch.stack([torch.tensor([e[1][0]], dtype=torch.float,\n",
    "            device=device) for e in samples])"
   ]
  },
  {
   "cell_type": "code",
   "execution_count": 86,
   "metadata": {},
   "outputs": [],
   "source": [
    "sample_0 = samples[0]"
   ]
  },
  {
   "cell_type": "code",
   "execution_count": 87,
   "metadata": {},
   "outputs": [
    {
     "data": {
      "text/plain": [
       "1.0"
      ]
     },
     "execution_count": 87,
     "metadata": {},
     "output_type": "execute_result"
    }
   ],
   "source": [
    "sample_0[1][0]"
   ]
  },
  {
   "cell_type": "code",
   "execution_count": null,
   "metadata": {},
   "outputs": [],
   "source": []
  },
  {
   "cell_type": "code",
   "execution_count": 88,
   "metadata": {},
   "outputs": [
    {
     "data": {
      "text/plain": [
       "tensor([[ 1.],\n",
       "        [ 1.],\n",
       "        [ 1.]])"
      ]
     },
     "execution_count": 88,
     "metadata": {},
     "output_type": "execute_result"
    }
   ],
   "source": [
    "all_v"
   ]
  },
  {
   "cell_type": "code",
   "execution_count": 47,
   "metadata": {},
   "outputs": [],
   "source": [
    "all_states = torch.tensor(\n",
    "    np.vstack([[[e[0]] for e in samples if e is not None]]),\n",
    "    dtype=torch.float,\n",
    "    device=device,\n",
    ")"
   ]
  },
  {
   "cell_type": "code",
   "execution_count": 48,
   "metadata": {},
   "outputs": [
    {
     "data": {
      "text/plain": [
       "tensor([[[[ 0.,  0., -1.],\n",
       "          [ 1.,  0.,  0.],\n",
       "          [ 1., -1.,  0.]]],\n",
       "\n",
       "\n",
       "        [[[ 1.,  0.,  1.],\n",
       "          [-1.,  0.,  0.],\n",
       "          [ 0., -1.,  0.]]],\n",
       "\n",
       "\n",
       "        [[[ 0., -1., -1.],\n",
       "          [ 0.,  1.,  0.],\n",
       "          [ 1., -1.,  1.]]]])"
      ]
     },
     "execution_count": 48,
     "metadata": {},
     "output_type": "execute_result"
    }
   ],
   "source": [
    "all_states"
   ]
  },
  {
   "cell_type": "code",
   "execution_count": 69,
   "metadata": {},
   "outputs": [],
   "source": [
    "all_v = torch.tensor(\n",
    "            np.vstack([e[1][0] for e in samples if e is not None]),\n",
    "            dtype=torch.float,\n",
    "            device=device,\n",
    "        )"
   ]
  },
  {
   "cell_type": "code",
   "execution_count": 70,
   "metadata": {},
   "outputs": [
    {
     "data": {
      "text/plain": [
       "tensor([[ 1.],\n",
       "        [ 1.],\n",
       "        [ 1.]])"
      ]
     },
     "execution_count": 70,
     "metadata": {},
     "output_type": "execute_result"
    }
   ],
   "source": [
    "all_v"
   ]
  },
  {
   "cell_type": "code",
   "execution_count": 98,
   "metadata": {},
   "outputs": [],
   "source": [
    "samples = [(((-0.0, -0.0, -1.0), (-0.0, -0.0, 1.0), (-0.0, -0.0, -1.0)), (0.3333333333333333, torch.tensor([ 0.3333,  0.0000,  0.0000,  0.3333,  0.0000,  0.0000,  0.3333,\n",
    "         0.0000,  0.0000]), 3)), (((-1.0, -0.0, 1.0), (-0.0, -1.0, 1.0), (-0.0, -1.0, -0.0)), (1, torch.tensor([ 0.,  0.,  0.,  0.,  0.,  0.,  0.,  0.,  1.]), 1)), (((1.0, -1.0, -1.0), (-1.0, 1.0, 1.0), (0.0, 1.0, -1.0)), (0, torch.tensor([ 0.,  0.,  0.,  0.,  0.,  0.,  1.,  0.,  0.]), 1))]"
   ]
  },
  {
   "cell_type": "code",
   "execution_count": 107,
   "metadata": {},
   "outputs": [],
   "source": [
    "all_states = torch.stack([torch.tensor([e[0]], \n",
    "                                       dtype=torch.float,\n",
    "                                       device=device) \n",
    "                          for e in samples if e is not None])\n",
    "\n",
    "all_v = torch.stack([torch.tensor([e[1][0]],\n",
    "                                  dtype=torch.float,\n",
    "                                  device=device) \n",
    "                     for e in samples])\n",
    "\n",
    "all_p = torch.stack([e[1][1] for e in samples])\n"
   ]
  },
  {
   "cell_type": "code",
   "execution_count": 108,
   "metadata": {},
   "outputs": [
    {
     "data": {
      "text/plain": [
       "tensor([[[[-0., -0., -1.],\n",
       "          [-0., -0.,  1.],\n",
       "          [-0., -0., -1.]]],\n",
       "\n",
       "\n",
       "        [[[-1., -0.,  1.],\n",
       "          [-0., -1.,  1.],\n",
       "          [-0., -1., -0.]]],\n",
       "\n",
       "\n",
       "        [[[ 1., -1., -1.],\n",
       "          [-1.,  1.,  1.],\n",
       "          [ 0.,  1., -1.]]]])"
      ]
     },
     "execution_count": 108,
     "metadata": {},
     "output_type": "execute_result"
    }
   ],
   "source": [
    "all_states"
   ]
  },
  {
   "cell_type": "code",
   "execution_count": 109,
   "metadata": {},
   "outputs": [
    {
     "data": {
      "text/plain": [
       "tensor([[ 0.3333],\n",
       "        [ 1.0000],\n",
       "        [ 0.0000]])"
      ]
     },
     "execution_count": 109,
     "metadata": {},
     "output_type": "execute_result"
    }
   ],
   "source": [
    "all_v"
   ]
  },
  {
   "cell_type": "code",
   "execution_count": 110,
   "metadata": {},
   "outputs": [
    {
     "data": {
      "text/plain": [
       "tensor([[ 0.3333,  0.0000,  0.0000,  0.3333,  0.0000,  0.0000,  0.3333,\n",
       "          0.0000,  0.0000],\n",
       "        [ 0.0000,  0.0000,  0.0000,  0.0000,  0.0000,  0.0000,  0.0000,\n",
       "          0.0000,  1.0000],\n",
       "        [ 0.0000,  0.0000,  0.0000,  0.0000,  0.0000,  0.0000,  1.0000,\n",
       "          0.0000,  0.0000]])"
      ]
     },
     "execution_count": 110,
     "metadata": {},
     "output_type": "execute_result"
    }
   ],
   "source": [
    "all_p"
   ]
  },
  {
   "cell_type": "code",
   "execution_count": null,
   "metadata": {},
   "outputs": [],
   "source": []
  }
 ],
 "metadata": {
  "kernelspec": {
   "display_name": "drlnd",
   "language": "python",
   "name": "drlnd"
  },
  "language_info": {
   "codemirror_mode": {
    "name": "ipython",
    "version": 3
   },
   "file_extension": ".py",
   "mimetype": "text/x-python",
   "name": "python",
   "nbconvert_exporter": "python",
   "pygments_lexer": "ipython3",
   "version": "3.6.12"
  }
 },
 "nbformat": 4,
 "nbformat_minor": 4
}
