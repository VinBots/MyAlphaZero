{
 "cells": [
  {
   "cell_type": "markdown",
   "metadata": {},
   "source": [
    "# AlphaZero Algorithm - Testing of the NN training"
   ]
  },
  {
   "cell_type": "markdown",
   "metadata": {},
   "source": [
    "# Import libraries / modules"
   ]
  },
  {
   "cell_type": "code",
   "execution_count": 1,
   "metadata": {},
   "outputs": [],
   "source": [
    "# Python libraries\n",
    "import time\n",
    "\n",
    "# 3rd party libraries\n",
    "import matplotlib.pyplot as plt\n",
    "import numpy as np\n",
    "\n",
    "# Game-related libraries\n",
    "import games_mod # Games\n",
    "import policy_mod # neural network\n",
    "from play_mod import Play\n",
    "import training_mod\n",
    "from game_utils import DotDict, policy_player_mcts, random_player, match_ai"
   ]
  },
  {
   "cell_type": "markdown",
   "metadata": {},
   "source": [
    "# Game, Training and Play Settings"
   ]
  },
  {
   "cell_type": "code",
   "execution_count": 2,
   "metadata": {},
   "outputs": [],
   "source": [
    "# Game settings\n",
    "game_settings = DotDict({\n",
    "    \"board_size\": (3,3),\n",
    "    \"N\": 3\n",
    "})\n",
    "\n",
    "# Self-play training settings\n",
    "game_training_settings = DotDict({\n",
    "    \"comp_interval\":100,\n",
    "    \"episods\": 1000,\n",
    "    \"explore_steps\": 50,\n",
    "    \"temp_threshold\": [300, 0.01] #[x,y] means \"up to x episods, applies y temperature\"\n",
    "})\n",
    "# neural network settings\n",
    "nn_training_settings = DotDict({\n",
    "    \"load_policy\": False,\n",
    "    \"ai_ckp\": \"\",\n",
    "    \"lr\": .001, \n",
    "    \"weight_decay\": 1.e-4,\n",
    "})\n",
    "\n",
    "# play settings\n",
    "play_settings = DotDict({\n",
    "    \"explore_steps\": 50,\n",
    "    \"temperature\": 0.01                         \n",
    "})"
   ]
  },
  {
   "cell_type": "markdown",
   "metadata": {},
   "source": [
    "## Testing of the loss function"
   ]
  },
  {
   "cell_type": "code",
   "execution_count": 3,
   "metadata": {},
   "outputs": [],
   "source": [
    "from mcts import process_policy\n",
    "from replay_buffer import ReplayBuffer\n",
    "import torch\n",
    "import torch.nn as nn\n",
    "import torch.optim as optim\n",
    "\n",
    "buffer_size = 500\n",
    "batch_size = 50\n",
    "buffer = ReplayBuffer(buffer_size, batch_size)"
   ]
  },
  {
   "cell_type": "code",
   "execution_count": 4,
   "metadata": {},
   "outputs": [],
   "source": [
    "from self_play import execute_self_play\n",
    "policy = policy_mod.Policy()\n",
    "temp = 1\n",
    "wins = 0\n",
    "draws = 0\n",
    "losses = 0\n",
    "explore_steps = 10\n",
    "for j in range (100):\n",
    "    new_exp = execute_self_play (game_settings, explore_steps, policy, temp)\n",
    "    for i in range(len(new_exp)):\n",
    "        buffer.add(new_exp[i])"
   ]
  },
  {
   "cell_type": "code",
   "execution_count": 5,
   "metadata": {},
   "outputs": [],
   "source": [
    "device = torch.device(\"cuda:0\" if torch.cuda.is_available() else \"cpu\")"
   ]
  },
  {
   "cell_type": "code",
   "execution_count": null,
   "metadata": {},
   "outputs": [],
   "source": []
  },
  {
   "cell_type": "code",
   "execution_count": null,
   "metadata": {},
   "outputs": [],
   "source": []
  },
  {
   "cell_type": "code",
   "execution_count": null,
   "metadata": {
    "scrolled": false
   },
   "outputs": [],
   "source": []
  },
  {
   "cell_type": "code",
   "execution_count": null,
   "metadata": {},
   "outputs": [],
   "source": []
  },
  {
   "cell_type": "code",
   "execution_count": 6,
   "metadata": {},
   "outputs": [],
   "source": [
    "def train(predicted_v, target_v, predicted_p, target_p):\n",
    "    optimizer = optim.SGD(\n",
    "            policy.parameters(),\n",
    "            lr=nn_training_settings.lr,\n",
    "            weight_decay=nn_training_settings.weight_decay,\n",
    "    )\n",
    "    \n",
    "    \n",
    "    mse_loss_fc = nn.MSELoss()\n",
    "    mse_loss = mse_loss_fc(predicted_v, target_v)\n",
    "\n",
    "    loglist = torch.where(predicted_p > 0, torch.log(predicted_p) * target_p, torch.tensor(0.0))\n",
    "    constant = -torch.where(target_p > 0, torch.log(target_p) * target_p, torch.tensor(0.0))\n",
    "    loss_loglist = -torch.sum(loglist)\n",
    "    loss_constant = torch.sum(constant)\n",
    "    \n",
    "\n",
    "    loss = -torch.sum(loglist-constant) + mse_loss\n",
    "    #loss = mse_loss\n",
    "    \n",
    "    loss_value = float(loss)\n",
    "    optimizer.zero_grad()\n",
    "    loss.backward()\n",
    "    \n",
    "    #nn.utils.clip_grad_value_(policy.parameters(), clip_value=1.0)\n",
    "    \n",
    "    optimizer.step()\n",
    "    print (\"Loss = {}, Loglist = {}, constant = {}\".format(\n",
    "        loss, loss_loglist, loss_constant))\n",
    "\n",
    "    #loss.detach()\n",
    "    return float(loss)"
   ]
  },
  {
   "cell_type": "code",
   "execution_count": 7,
   "metadata": {},
   "outputs": [
    {
     "name": "stdout",
     "output_type": "stream",
     "text": [
      "Loss = 196.8911895751953, Loglist = 109.98313903808594, constant = -85.97394561767578\n",
      "Loss = 182.57325744628906, Loglist = 110.05638122558594, constant = -71.47686004638672\n",
      "Loss = 185.05641174316406, Loglist = 109.97731018066406, constant = -74.09156799316406\n",
      "Loss = 181.39556884765625, Loglist = 109.88875579833984, constant = -70.64995574951172\n",
      "Loss = 191.24050903320312, Loglist = 110.07359313964844, constant = -80.2115249633789\n",
      "Loss = 185.13572692871094, Loglist = 110.10243225097656, constant = -74.137451171875\n",
      "Loss = 180.1315460205078, Loglist = 110.06122589111328, constant = -69.17743682861328\n",
      "Loss = 186.91062927246094, Loglist = 109.99974060058594, constant = -76.00180053710938\n",
      "Loss = 178.71554565429688, Loglist = 109.99571990966797, constant = -67.80572509765625\n",
      "Loss = 178.57008361816406, Loglist = 110.30245208740234, constant = -67.30158996582031\n",
      "Loss = 190.53070068359375, Loglist = 110.08467102050781, constant = -79.4505386352539\n",
      "Loss = 186.16233825683594, Loglist = 109.91587829589844, constant = -75.44185638427734\n",
      "Loss = 189.5224609375, Loglist = 109.83052062988281, constant = -78.7481460571289\n",
      "Loss = 183.38575744628906, Loglist = 109.74317932128906, constant = -72.63488006591797\n",
      "Loss = 183.1116943359375, Loglist = 109.85250091552734, constant = -72.44640350341797\n",
      "Loss = 184.1228790283203, Loglist = 109.9722900390625, constant = -73.23238372802734\n",
      "Loss = 186.01220703125, Loglist = 109.7729263305664, constant = -75.31558990478516\n",
      "Loss = 185.69273376464844, Loglist = 110.13263702392578, constant = -74.61831665039062\n",
      "Loss = 185.31369018554688, Loglist = 109.90802001953125, constant = -74.44880676269531\n",
      "Loss = 190.15487670898438, Loglist = 109.91515350341797, constant = -79.33667755126953\n",
      "Loss = 180.74267578125, Loglist = 109.8070068359375, constant = -69.8983154296875\n",
      "Loss = 185.7132568359375, Loglist = 109.83666229248047, constant = -74.8612289428711\n",
      "Loss = 178.69903564453125, Loglist = 109.660888671875, constant = -68.00491333007812\n",
      "Loss = 184.7597198486328, Loglist = 109.8442153930664, constant = -74.01426696777344\n",
      "Loss = 181.61630249023438, Loglist = 109.95120239257812, constant = -70.87905883789062\n",
      "Loss = 188.47207641601562, Loglist = 109.95612335205078, constant = -77.62822723388672\n",
      "Loss = 191.68907165527344, Loglist = 110.040771484375, constant = -80.7199478149414\n",
      "Loss = 183.11477661132812, Loglist = 109.61177825927734, constant = -72.50885009765625\n",
      "Loss = 185.8056182861328, Loglist = 109.45478057861328, constant = -75.45198059082031\n",
      "Loss = 184.7745361328125, Loglist = 109.79256439208984, constant = -74.05892181396484\n",
      "Loss = 194.056396484375, Loglist = 109.71733093261719, constant = -83.37834167480469\n",
      "Loss = 181.27825927734375, Loglist = 109.62915802001953, constant = -70.76962280273438\n",
      "Loss = 187.75341796875, Loglist = 110.2984848022461, constant = -76.56291198730469\n",
      "Loss = 174.85382080078125, Loglist = 109.80894470214844, constant = -64.05520629882812\n",
      "Loss = 177.49551391601562, Loglist = 109.988037109375, constant = -66.6779556274414\n",
      "Loss = 190.29322814941406, Loglist = 109.65189361572266, constant = -79.75004577636719\n",
      "Loss = 183.82833862304688, Loglist = 109.77876281738281, constant = -73.11531829833984\n",
      "Loss = 184.59417724609375, Loglist = 109.78450775146484, constant = -73.83808898925781\n",
      "Loss = 176.89356994628906, Loglist = 109.44994354248047, constant = -66.71024322509766\n",
      "Loss = 186.02842712402344, Loglist = 109.93291473388672, constant = -75.29783630371094\n",
      "Loss = 193.52667236328125, Loglist = 109.56183624267578, constant = -82.88035583496094\n",
      "Loss = 186.56961059570312, Loglist = 109.60025787353516, constant = -76.14614868164062\n",
      "Loss = 184.01072692871094, Loglist = 109.51153564453125, constant = -73.48871612548828\n",
      "Loss = 194.8826141357422, Loglist = 109.56261444091797, constant = -84.4854507446289\n",
      "Loss = 187.28477478027344, Loglist = 109.6134262084961, constant = -76.80265045166016\n",
      "Loss = 185.33660888671875, Loglist = 109.7768783569336, constant = -74.60903930664062\n",
      "Loss = 193.5458526611328, Loglist = 109.91327667236328, constant = -82.66472625732422\n",
      "Loss = 188.7646026611328, Loglist = 109.39828491210938, constant = -78.5467758178711\n",
      "Loss = 185.54383850097656, Loglist = 109.41366577148438, constant = -75.22977447509766\n",
      "Loss = 180.0459442138672, Loglist = 109.43331909179688, constant = -69.76798248291016\n"
     ]
    }
   ],
   "source": [
    "# test with 1 state\n",
    "losses = []\n",
    "policy = policy_mod.Policy()\n",
    "for _ in range(50):\n",
    "    samples = buffer.sample()\n",
    "    all_states = torch.tensor(np.vstack([[[e.state] for e in samples if e is not None]]), \n",
    "                              dtype=torch.float, device=device)\n",
    "    all_p = torch.tensor(np.vstack([e.p for e in samples if e is not None]), \n",
    "                         dtype=torch.float, device=device)\n",
    "    \n",
    "    all_v = torch.tensor(np.vstack([e.v for e in samples if e is not None]), \n",
    "                         dtype=torch.float, device=device)\n",
    "    \n",
    "    device = torch.device(\"cuda:0\" if torch.cuda.is_available() else \"cpu\")\n",
    "    #print (\"Input : {}\".format(input))\n",
    "\n",
    "    predicted_p, predicted_v = policy.forward_batch(all_states)    \n",
    "    target_p = torch.tensor(all_p, dtype=torch.float, device=device)\n",
    "    target_v = torch.tensor(all_v, dtype=torch.float, device=device)\n",
    "    losses.append(train(predicted_v, target_v, predicted_p, target_p))\n"
   ]
  },
  {
   "cell_type": "code",
   "execution_count": 8,
   "metadata": {
    "scrolled": false
   },
   "outputs": [
    {
     "data": {
      "text/plain": [
       "[<matplotlib.lines.Line2D at 0x7fccf551f748>]"
      ]
     },
     "execution_count": 8,
     "metadata": {},
     "output_type": "execute_result"
    },
    {
     "data": {
      "image/png": "[encoded data removed]",
      "text/plain": [
       "<Figure size 432x288 with 1 Axes>"
      ]
     },
     "metadata": {
      "needs_background": "light"
     },
     "output_type": "display_data"
    }
   ],
   "source": [
    "plt.plot(losses)"
   ]
  },
  {
   "cell_type": "code",
   "execution_count": null,
   "metadata": {},
   "outputs": [],
   "source": []
  },
  {
   "cell_type": "code",
   "execution_count": null,
   "metadata": {},
   "outputs": [],
   "source": []
  }
 ],
 "metadata": {
  "kernelspec": {
   "display_name": "drlnd",
   "language": "python",
   "name": "drlnd"
  },
  "language_info": {
   "codemirror_mode": {
    "name": "ipython",
    "version": 3
   },
   "file_extension": ".py",
   "mimetype": "text/x-python",
   "name": "python",
   "nbconvert_exporter": "python",
   "pygments_lexer": "ipython3",
   "version": "3.6.12"
  }
 },
 "nbformat": 4,
 "nbformat_minor": 2
}
