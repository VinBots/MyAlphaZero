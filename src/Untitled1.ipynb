{
 "cells": [
  {
   "cell_type": "markdown",
   "metadata": {},
   "source": [
    "# Creation of a boolean mask for illegal actions"
   ]
  },
  {
   "cell_type": "code",
   "execution_count": 2,
   "metadata": {},
   "outputs": [],
   "source": [
    "import torch"
   ]
  },
  {
   "cell_type": "code",
   "execution_count": 65,
   "metadata": {},
   "outputs": [],
   "source": [
    "t = torch.tensor([[[1, 0, -1],[0, 0, 0],[0, 1, 0]],[[1, 0, -1],[1, 1, 1],[0, 1, 0]]]).float()"
   ]
  },
  {
   "cell_type": "code",
   "execution_count": 71,
   "metadata": {},
   "outputs": [
    {
     "data": {
      "text/plain": [
       "tensor([[ 0.,  1.,  0.,  1.,  1.,  1.,  1.,  0.,  1.],\n",
       "        [ 0.,  1.,  0.,  0.,  0.,  0.,  1.,  0.,  1.]])"
      ]
     },
     "execution_count": 71,
     "metadata": {},
     "output_type": "execute_result"
    }
   ],
   "source": [
    "(torch.abs(t)!=1).float().view(-1, 9)"
   ]
  },
  {
   "cell_type": "code",
   "execution_count": 124,
   "metadata": {},
   "outputs": [],
   "source": [
    "import torch"
   ]
  },
  {
   "cell_type": "code",
   "execution_count": 156,
   "metadata": {},
   "outputs": [],
   "source": [
    "pred_v = torch.tensor(\n",
    "       [[ 6.1700],\n",
    "        [ 6.1700],\n",
    "        [ 6.1700]])\n",
    "\n",
    "target_v = torch.tensor([[-1.],\n",
    "        [ 1.],\n",
    "        [ 0.]])\n"
   ]
  },
  {
   "cell_type": "code",
   "execution_count": 157,
   "metadata": {},
   "outputs": [],
   "source": [
    "pred_p = torch.tensor([[ 0.1256,  0.1375,  0.1200,  0.1661,  0.0000,  0.1235,  0.0000,\n",
    "          0.1587,  0.1686],\n",
    "        [ 0.0000,  0.3311,  0.2859,  0.0000,  0.0000,  0.0000,  0.0000,\n",
    "          0.3830,  0.0000],\n",
    "        [ 0.1218,  0.1333,  0.1165,  0.1616,  0.0000,  0.0000,  0.1447,\n",
    "          0.1564,  0.1655]])\n",
    "target_p = torch.tensor([[ 0.3684,  0.1228,  0.1053,  0.0877,  0.0000,  0.1228,  0.0000,\n",
    "          0.1053,  0.0877],\n",
    "        [ 0.0000,  0.4136,  0.2408,  0.0000,  0.0000,  0.0000,  0.0000,\n",
    "          0.3455,  0.0000],\n",
    "        [ 0.1228,  0.1228,  0.3158,  0.1404,  0.0000,  0.0000,  0.1053,\n",
    "          0.1053,  0.0877]])\n"
   ]
  },
  {
   "cell_type": "code",
   "execution_count": 158,
   "metadata": {},
   "outputs": [
    {
     "data": {
      "text/plain": [
       "(tensor([[ 6.1700],\n",
       "         [ 6.1700],\n",
       "         [ 6.1700]]),\n",
       " tensor([[ 0.1256,  0.1375,  0.1200,  0.1661,  0.0000,  0.1235,  0.0000,\n",
       "           0.1587,  0.1686],\n",
       "         [ 0.0000,  0.3311,  0.2859,  0.0000,  0.0000,  0.0000,  0.0000,\n",
       "           0.3830,  0.0000],\n",
       "         [ 0.1218,  0.1333,  0.1165,  0.1616,  0.0000,  0.0000,  0.1447,\n",
       "           0.1564,  0.1655]]),\n",
       " tensor([[-1.],\n",
       "         [ 1.],\n",
       "         [ 0.]]),\n",
       " tensor([[ 0.3684,  0.1228,  0.1053,  0.0877,  0.0000,  0.1228,  0.0000,\n",
       "           0.1053,  0.0877],\n",
       "         [ 0.0000,  0.4136,  0.2408,  0.0000,  0.0000,  0.0000,  0.0000,\n",
       "           0.3455,  0.0000],\n",
       "         [ 0.1228,  0.1228,  0.3158,  0.1404,  0.0000,  0.0000,  0.1053,\n",
       "           0.1053,  0.0877]]))"
      ]
     },
     "execution_count": 158,
     "metadata": {},
     "output_type": "execute_result"
    }
   ],
   "source": [
    "pred_v, pred_p, target_v, target_p"
   ]
  },
  {
   "cell_type": "code",
   "execution_count": null,
   "metadata": {},
   "outputs": [],
   "source": []
  },
  {
   "cell_type": "code",
   "execution_count": 167,
   "metadata": {},
   "outputs": [],
   "source": [
    "def loss1 (pred_v, pred_p, target_v, target_p):\n",
    "    \n",
    "    value_error = (target_v.float() - torch.transpose(pred_v,0,1))**2\n",
    "    #policy_error = (target_p.float()*pred_p.log()).sum(1)\n",
    "    print (value_error)\n",
    "    return (value_error - policy_error).mean()\n"
   ]
  },
  {
   "cell_type": "code",
   "execution_count": 173,
   "metadata": {},
   "outputs": [
    {
     "name": "stdout",
     "output_type": "stream",
     "text": [
      "tensor([[ 51.4089,  51.4089,  51.4089],\n",
      "        [ 26.7289,  26.7289,  26.7289],\n",
      "        [ 38.0689,  38.0689,  38.0689]])\n"
     ]
    },
    {
     "data": {
      "text/plain": [
       "tensor(40.4300)"
      ]
     },
     "execution_count": 173,
     "metadata": {},
     "output_type": "execute_result"
    }
   ],
   "source": [
    "loss1 (pred_v, pred_p, target_v, target_p)"
   ]
  },
  {
   "cell_type": "code",
   "execution_count": null,
   "metadata": {},
   "outputs": [],
   "source": []
  },
  {
   "cell_type": "code",
   "execution_count": null,
   "metadata": {},
   "outputs": [],
   "source": []
  },
  {
   "cell_type": "code",
   "execution_count": 203,
   "metadata": {},
   "outputs": [],
   "source": [
    "def loss_function(pred_v, pred_p, target_v, target_p):\n",
    "        \n",
    "        #print (\"pred_v = {}\".format(pred_v))\n",
    "        #print (\"target_v = {}\".format(target_v))\n",
    "        \n",
    "        value_loss = ((pred_v - target_v)**2).sum()\n",
    "        print (value_loss)\n",
    "        #print (\"mean value_loss = {}\".format(value_loss))\n",
    "        \n",
    "        #print (\"pred_p = {}\".format(pred_p))\n",
    "        #print (\"target_p = {}\".format(target_p))\n",
    "        \n",
    "        loglist = torch.where(pred_p > 0, torch.log(pred_p) * target_p, torch.tensor(0.0))\n",
    "        print (loglist)\n",
    "        policy_loss = torch.sum(loglist)\n",
    "        \n",
    "        print (\"policy loss = {}\".format(policy_loss))\n",
    "        constant_list = torch.where(target_p > 0 , torch.log(target_p) * target_p, torch.tensor(0.0))\n",
    "        constant = torch.sum(constant_list)\n",
    "        print (\"constant = {}\".format(constant))\n",
    "        loss = value_loss - policy_loss + constant\n",
    "        \n",
    "        print (loss)\n",
    "        #print (value_loss, -policy_loss, constant, loss)\n",
    "        return loss\n",
    "    "
   ]
  },
  {
   "cell_type": "code",
   "execution_count": 204,
   "metadata": {},
   "outputs": [
    {
     "name": "stdout",
     "output_type": "stream",
     "text": [
      "tensor(116.2067)\n",
      "tensor([[-0.7643, -0.2437, -0.2233, -0.1574,  0.0000, -0.2568,  0.0000,\n",
      "         -0.1938, -0.1561],\n",
      "        [ 0.0000, -0.4572, -0.3015,  0.0000,  0.0000,  0.0000,  0.0000,\n",
      "         -0.3316,  0.0000],\n",
      "        [-0.2585, -0.2475, -0.6789, -0.2559,  0.0000,  0.0000, -0.2036,\n",
      "         -0.1954, -0.1578]])\n",
      "policy loss = -5.0832061767578125\n",
      "constant = -4.701290607452393\n",
      "tensor(116.5886)\n"
     ]
    },
    {
     "data": {
      "text/plain": [
       "tensor(116.5886)"
      ]
     },
     "execution_count": 204,
     "metadata": {},
     "output_type": "execute_result"
    }
   ],
   "source": [
    "loss_function(pred_v, pred_p, target_v, target_p)"
   ]
  },
  {
   "cell_type": "code",
   "execution_count": 205,
   "metadata": {},
   "outputs": [
    {
     "ename": "AttributeError",
     "evalue": "module 'torch' has no attribute 'finfo'",
     "output_type": "error",
     "traceback": [
      "\u001b[0;31m---------------------------------------------------------------------------\u001b[0m",
      "\u001b[0;31mAttributeError\u001b[0m                            Traceback (most recent call last)",
      "\u001b[0;32m<ipython-input-205-969517cc0245>\u001b[0m in \u001b[0;36m<module>\u001b[0;34m\u001b[0m\n\u001b[0;32m----> 1\u001b[0;31m \u001b[0mtorch\u001b[0m\u001b[0;34m.\u001b[0m\u001b[0mfinfo\u001b[0m\u001b[0;34m(\u001b[0m\u001b[0mtorch\u001b[0m\u001b[0;34m.\u001b[0m\u001b[0mfloat32\u001b[0m\u001b[0;34m)\u001b[0m\u001b[0;34m.\u001b[0m\u001b[0meps\u001b[0m\u001b[0;34m\u001b[0m\u001b[0;34m\u001b[0m\u001b[0m\n\u001b[0m",
      "\u001b[0;31mAttributeError\u001b[0m: module 'torch' has no attribute 'finfo'"
     ]
    }
   ],
   "source": []
  },
  {
   "cell_type": "code",
   "execution_count": 187,
   "metadata": {},
   "outputs": [],
   "source": []
  },
  {
   "cell_type": "code",
   "execution_count": 188,
   "metadata": {},
   "outputs": [
    {
     "data": {
      "text/plain": [
       "tensor(38.7356)"
      ]
     },
     "execution_count": 188,
     "metadata": {},
     "output_type": "execute_result"
    }
   ],
   "source": [
    "loss2 (pred_v, target_v)"
   ]
  },
  {
   "cell_type": "code",
   "execution_count": 189,
   "metadata": {},
   "outputs": [],
   "source": [
    "value_loss = ((pred_v - target_v)**2).mean()"
   ]
  },
  {
   "cell_type": "code",
   "execution_count": 190,
   "metadata": {},
   "outputs": [
    {
     "data": {
      "text/plain": [
       "tensor(38.7356)"
      ]
     },
     "execution_count": 190,
     "metadata": {},
     "output_type": "execute_result"
    }
   ],
   "source": [
    "value_loss"
   ]
  },
  {
   "cell_type": "code",
   "execution_count": 207,
   "metadata": {},
   "outputs": [
    {
     "ename": "AttributeError",
     "evalue": "'Tensor' object has no attribute 'finfo'",
     "output_type": "error",
     "traceback": [
      "\u001b[0;31m---------------------------------------------------------------------------\u001b[0m",
      "\u001b[0;31mAttributeError\u001b[0m                            Traceback (most recent call last)",
      "\u001b[0;32m<ipython-input-207-b57badec5b5c>\u001b[0m in \u001b[0;36m<module>\u001b[0;34m\u001b[0m\n\u001b[0;32m----> 1\u001b[0;31m \u001b[0mvalue_loss\u001b[0m\u001b[0;34m.\u001b[0m\u001b[0mfinfo\u001b[0m\u001b[0;34m(\u001b[0m\u001b[0mtorch\u001b[0m\u001b[0;34m.\u001b[0m\u001b[0mfloat32\u001b[0m\u001b[0;34m)\u001b[0m\u001b[0;34m.\u001b[0m\u001b[0meps\u001b[0m\u001b[0;34m\u001b[0m\u001b[0;34m\u001b[0m\u001b[0m\n\u001b[0m",
      "\u001b[0;31mAttributeError\u001b[0m: 'Tensor' object has no attribute 'finfo'"
     ]
    }
   ],
   "source": [
    "value_loss.finfo(torch.float32).eps"
   ]
  },
  {
   "cell_type": "code",
   "execution_count": null,
   "metadata": {},
   "outputs": [],
   "source": []
  }
 ],
 "metadata": {
  "kernelspec": {
   "display_name": "drlnd",
   "language": "python",
   "name": "drlnd"
  },
  "language_info": {
   "codemirror_mode": {
    "name": "ipython",
    "version": 3
   },
   "file_extension": ".py",
   "mimetype": "text/x-python",
   "name": "python",
   "nbconvert_exporter": "python",
   "pygments_lexer": "ipython3",
   "version": "3.6.12"
  }
 },
 "nbformat": 4,
 "nbformat_minor": 4
}
